{
 "cells": [
  {
   "cell_type": "markdown",
   "metadata": {},
   "source": [
    "# From Datetime to MEM format\n",
    "\n",
    "Take normal datetime format of the pandas equivalent and covert\n",
    "the file to MEM style: year, month, day, hour format\n"
   ]
  },
  {
   "cell_type": "code",
   "execution_count": 4,
   "metadata": {},
   "outputs": [],
   "source": [
    "import pandas as pd\n",
    "import numpy as np\n",
    "from datetime import datetime, timedelta\n",
    "import csv\n",
    "import matplotlib.pyplot as plt"
   ]
  },
  {
   "cell_type": "code",
   "execution_count": 5,
   "metadata": {},
   "outputs": [],
   "source": [
    "def make_MEM_compatible_NORMAL(f_name, save_name, date_time_field='date_time'):\n",
    "    print(f\"In file: {f_name}\")\n",
    "    df = pd.read_csv(f_name)\n",
    "    df['date_time'] = pd.to_datetime(df[date_time_field])\n",
    "    \n",
    "    with open(f'{save_name}.csv', 'w', newline='') as csvfile:\n",
    "\n",
    "        fieldnames = ['year', 'month', 'day', 'hour', 'demand (MW)', 'date_time']\n",
    "        writer = csv.DictWriter(csvfile, fieldnames=fieldnames)\n",
    "        writer.writeheader()\n",
    "        \n",
    "        for idx in df.index:\n",
    "            # This strange shift is to uses MEM's 1-24 counting,\n",
    "            # see example datetime and MEM for these three hours:\n",
    "            # year,month,day,hour,date_time\n",
    "            # 2015,7,2,23,2015-07-02 23:00:00\n",
    "            # 2015,7,2,24,2015-07-03 00:00:00\n",
    "            # 2015,7,3,1,2015-07-03 01:00:00\n",
    "            mem_format = df.loc[idx, 'date_time'] + timedelta(hours=-1)\n",
    "            writer.writerow({\n",
    "                'year': mem_format.year,\n",
    "                'month': mem_format.month,\n",
    "                'day': mem_format.day,\n",
    "                'hour': mem_format.hour+1,\n",
    "                'demand (MW)': int(round(df.loc[idx, 'estimated_load'])),\n",
    "                'date_time': df.loc[idx, 'date_time']\n",
    "            })\n",
    "    print(f\"Outfile: {save_name}\")\n",
    "\n",
    "def make_MEM_compatible_DAVES(f_name, save_name, date_time_field='date_time'):\n",
    "    print(f\"In file: {f_name}\")\n",
    "    df = pd.read_csv(f_name)\n",
    "    df['date_time'] = pd.to_datetime(df[date_time_field])\n",
    "    \n",
    "    with open(f'{save_name}.csv', 'w', newline='') as csvfile:\n",
    "\n",
    "        # Write BEGIN_DATA before header\n",
    "        writer = csv.writer(csvfile)\n",
    "        writer.writerow(['BEGIN_DATA'])\n",
    "        \n",
    "        fieldnames = ['year', 'month', 'day', 'hour', 'demand (MW)',]# 'date_time']\n",
    "        writer = csv.DictWriter(csvfile, fieldnames=fieldnames)\n",
    "        # Write one line that only says BEGIN_DATA before header\n",
    "        writer.writeheader()\n",
    "        \n",
    "        for idx in df.index:\n",
    "            # This strange shift is to uses MEM's 1-24 counting,\n",
    "            # see example datetime and MEM for these three hours:\n",
    "            # year,month,day,hour,date_time\n",
    "            # 2015,7,2,23,2015-07-02 23:00:00\n",
    "            # 2015,7,2,24,2015-07-03 00:00:00\n",
    "            # 2015,7,3,1,2015-07-03 01:00:00\n",
    "            mem_format = df.loc[idx, 'date_time']\n",
    "            writer.writerow({\n",
    "                'year': mem_format.year,\n",
    "                'month': mem_format.month,\n",
    "                'day': mem_format.day,\n",
    "                'hour': mem_format.hour+1,\n",
    "                'demand (MW)': int(round(df.loc[idx, 'cleaned demand (MW)'])), # demand was in kW\n",
    "                #'date_time': df.loc[idx, 'date_time']\n",
    "            })\n",
    "    print(f\"Outfile: {save_name}\")"
   ]
  },
  {
   "cell_type": "code",
   "execution_count": 6,
   "metadata": {},
   "outputs": [
    {
     "name": "stdout",
     "output_type": "stream",
     "text": [
      "In file: ./CISO.csv\n",
      "Outfile: CISO_demand_reformatted\n",
      "In file: ./ERCO.csv\n",
      "Outfile: ERCO_demand_reformatted\n",
      "In file: ./ISNE.csv\n",
      "Outfile: ISNE_demand_reformatted\n",
      "In file: ./MISO.csv\n",
      "Outfile: MISO_demand_reformatted\n"
     ]
    }
   ],
   "source": [
    "base = './'\n",
    "\n",
    "for region in ['CISO', 'ERCO', 'ISNE', 'MISO']:\n",
    "    make_MEM_compatible_DAVES(base+'{0}.csv'.format(region), '{0}_demand_reformatted'.format(region))"
   ]
  },
  {
   "cell_type": "code",
   "execution_count": null,
   "metadata": {},
   "outputs": [],
   "source": []
  }
 ],
 "metadata": {
  "kernelspec": {
   "display_name": "Python 3",
   "language": "python",
   "name": "python3"
  },
  "language_info": {
   "codemirror_mode": {
    "name": "ipython",
    "version": 3
   },
   "file_extension": ".py",
   "mimetype": "text/x-python",
   "name": "python",
   "nbconvert_exporter": "python",
   "pygments_lexer": "ipython3",
   "version": "3.8.17"
  }
 },
 "nbformat": 4,
 "nbformat_minor": 2
}
